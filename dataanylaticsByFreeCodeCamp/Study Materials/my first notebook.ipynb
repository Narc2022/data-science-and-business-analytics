{
 "cells": [
  {
   "cell_type": "markdown",
   "id": "3ee4091b-69c1-4505-a5f6-b10cd2221928",
   "metadata": {},
   "source": [
    "# Markdown\n",
    "## testing two \"##\" text\n",
    "### testing two \"###\" text\n",
    "> Test \">\" in markdown"
   ]
  },
  {
   "cell_type": "markdown",
   "id": "43210ea0-e2d1-4580-aa29-108b5e7a34a4",
   "metadata": {},
   "source": [
    "8 * 5"
   ]
  }
 ],
 "metadata": {
  "kernelspec": {
   "display_name": "Python 3 (ipykernel)",
   "language": "python",
   "name": "python3"
  },
  "language_info": {
   "codemirror_mode": {
    "name": "ipython",
    "version": 3
   },
   "file_extension": ".py",
   "mimetype": "text/x-python",
   "name": "python",
   "nbconvert_exporter": "python",
   "pygments_lexer": "ipython3",
   "version": "3.13.2"
  }
 },
 "nbformat": 4,
 "nbformat_minor": 5
}
