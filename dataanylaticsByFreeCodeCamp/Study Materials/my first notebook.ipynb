{
 "cells": [
  {
   "cell_type": "markdown",
   "id": "3ee4091b-69c1-4505-a5f6-b10cd2221928",
   "metadata": {},
   "source": [
    "# Markdown\n",
    "## testing two \"##\" text\n",
    "### testing two \"###\" text\n",
    "> Test \">\" in markdown"
   ]
  },
  {
   "cell_type": "markdown",
   "id": "43210ea0-e2d1-4580-aa29-108b5e7a34a4",
   "metadata": {},
   "source": [
    "8 * 5"
   ]
  },
  {
   "cell_type": "code",
   "execution_count": 1,
   "id": "bf17192c-5915-412b-86e8-c22f422dd9f8",
   "metadata": {},
   "outputs": [
    {
     "ename": "ModuleNotFoundError",
     "evalue": "No module named 'pandas'",
     "output_type": "error",
     "traceback": [
      "\u001b[31m---------------------------------------------------------------------------\u001b[39m",
      "\u001b[31mModuleNotFoundError\u001b[39m                       Traceback (most recent call last)",
      "\u001b[36mCell\u001b[39m\u001b[36m \u001b[39m\u001b[32mIn[1]\u001b[39m\u001b[32m, line 1\u001b[39m\n\u001b[32m----> \u001b[39m\u001b[32m1\u001b[39m \u001b[38;5;28;01mimport\u001b[39;00m\u001b[38;5;250m \u001b[39m\u001b[34;01mpandas\u001b[39;00m\u001b[38;5;250m \u001b[39m\u001b[38;5;28;01mas\u001b[39;00m\u001b[38;5;250m \u001b[39m\u001b[34;01mpd\u001b[39;00m\n\u001b[32m      3\u001b[39m \u001b[38;5;66;03m# Create the data for HLOOKUP example\u001b[39;00m\n\u001b[32m      4\u001b[39m data = {\n\u001b[32m      5\u001b[39m     \u001b[33m\"\u001b[39m\u001b[33mMath\u001b[39m\u001b[33m\"\u001b[39m: [\u001b[32m88\u001b[39m, \u001b[33m\"\u001b[39m\u001b[33mB+\u001b[39m\u001b[33m\"\u001b[39m],\n\u001b[32m      6\u001b[39m     \u001b[33m\"\u001b[39m\u001b[33mScience\u001b[39m\u001b[33m\"\u001b[39m: [\u001b[32m92\u001b[39m, \u001b[33m\"\u001b[39m\u001b[33mA\u001b[39m\u001b[33m\"\u001b[39m],\n\u001b[32m      7\u001b[39m     \u001b[33m\"\u001b[39m\u001b[33mEnglish\u001b[39m\u001b[33m\"\u001b[39m: [\u001b[32m79\u001b[39m, \u001b[33m\"\u001b[39m\u001b[33mC+\u001b[39m\u001b[33m\"\u001b[39m],\n\u001b[32m      8\u001b[39m     \u001b[33m\"\u001b[39m\u001b[33mHistory\u001b[39m\u001b[33m\"\u001b[39m: [\u001b[32m85\u001b[39m, \u001b[33m\"\u001b[39m\u001b[33mB\u001b[39m\u001b[33m\"\u001b[39m],\n\u001b[32m      9\u001b[39m }\n",
      "\u001b[31mModuleNotFoundError\u001b[39m: No module named 'pandas'"
     ]
    }
   ],
   "source": [
    "import pandas as pd\n",
    "\n",
    "# Create the data for HLOOKUP example\n",
    "data = {\n",
    "    \"Math\": [88, \"B+\"],\n",
    "    \"Science\": [92, \"A\"],\n",
    "    \"English\": [79, \"C+\"],\n",
    "    \"History\": [85, \"B\"],\n",
    "}\n",
    "\n",
    "# Create a DataFrame with 'Marks' and 'Grade' as rows\n",
    "df = pd.DataFrame(data, index=[\"Marks\", \"Grade\"])\n",
    "\n",
    "# Add a 'Category' column to label the rows\n",
    "df.insert(0, \"Category\", [\"Marks\", \"Grade\"])\n",
    "\n",
    "# Save the DataFrame to an Excel file\n",
    "file_path = \"HLOOKUP_Example_Data.xlsx\"\n",
    "df.to_excel(file_path, index=False)\n",
    "\n",
    "print(\"File saved as:\", file_path)\n"
   ]
  },
  {
   "cell_type": "code",
   "execution_count": null,
   "id": "25578823-d5ca-4287-9fc8-ed1b2971815c",
   "metadata": {},
   "outputs": [],
   "source": [
    "!pip install pandas openpyxl\n"
   ]
  },
  {
   "cell_type": "code",
   "execution_count": null,
   "id": "6d7bc36b-ea19-417a-b581-de1f78a48633",
   "metadata": {},
   "outputs": [],
   "source": []
  }
 ],
 "metadata": {
  "kernelspec": {
   "display_name": "Python 3 (ipykernel)",
   "language": "python",
   "name": "python3"
  },
  "language_info": {
   "codemirror_mode": {
    "name": "ipython",
    "version": 3
   },
   "file_extension": ".py",
   "mimetype": "text/x-python",
   "name": "python",
   "nbconvert_exporter": "python",
   "pygments_lexer": "ipython3",
   "version": "3.13.2"
  }
 },
 "nbformat": 4,
 "nbformat_minor": 5
}
